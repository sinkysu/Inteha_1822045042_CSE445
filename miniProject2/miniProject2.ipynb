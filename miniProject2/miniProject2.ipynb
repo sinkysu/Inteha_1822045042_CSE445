{
  "nbformat": 4,
  "nbformat_minor": 0,
  "metadata": {
    "colab": {
      "provenance": [],
      "gpuType": "T4"
    },
    "kernelspec": {
      "name": "python3",
      "display_name": "Python 3"
    },
    "language_info": {
      "name": "python"
    },
    "accelerator": "GPU"
  },
  "cells": [
    {
      "cell_type": "code",
      "execution_count": 1,
      "metadata": {
        "id": "VlKOlNd2lnjA"
      },
      "outputs": [],
      "source": [
        "import pandas as pd\n",
        "import numpy as np\n",
        "import matplotlib.pyplot as plt"
      ]
    },
    {
      "cell_type": "code",
      "source": [
        "data = [\n",
        "    [99, 1.56], [95, 1.41], [99, 2.02], [88, 1.87],\n",
        "    [95, 1.42], [73, 2.68], [81, 2.21], [90, 1.65],\n",
        "    [68, 2.92], [85, 1.98], [79, 2.34], [93, 1.47],\n",
        "    [71, 2.75], [87, 1.82], [96, 1.38], [82, 2.19]\n",
        "]\n",
        "\n",
        "df = pd.DataFrame(data, columns=['AccuracyPercent', 'AvgReactionTimeSec'])\n",
        "\n",
        "# Manual labeling criteria\n",
        "def label_performance(row):\n",
        "    if row['AccuracyPercent'] >= 90 and row['AvgReactionTimeSec'] <= 1.7:\n",
        "        return 'High'\n",
        "    elif row['AccuracyPercent'] >= 80 and row['AvgReactionTimeSec'] <= 2.0:\n",
        "        return 'Medium'\n",
        "    else:\n",
        "        return 'Low'\n",
        "\n",
        "df['Performance'] = df.apply(label_performance, axis=1)"
      ],
      "metadata": {
        "id": "AFnVAm2kxBdH"
      },
      "execution_count": 2,
      "outputs": []
    },
    {
      "cell_type": "code",
      "source": [
        "# 1. Efficiency Score (Accuracy/ReactionTime)\n",
        "df['Efficiency'] = df['AccuracyPercent'] / df['AvgReactionTimeSec']\n",
        "\n",
        "# 2. Speed-Accuracy Trade-off Index\n",
        "mean_rt = df['AvgReactionTimeSec'].mean()\n",
        "df['SAT_Index'] = df['AccuracyPercent'] * (mean_rt / df['AvgReactionTimeSec'])\n",
        "\n",
        "# 3. Performance Z-scores\n",
        "df['Accuracy_Z'] = (df['AccuracyPercent'] - df['AccuracyPercent'].mean()) / df['AccuracyPercent'].std()\n",
        "df['RT_Z'] = (df['AvgReactionTimeSec'] - df['AvgReactionTimeSec'].mean()) / df['AvgReactionTimeSec'].std()\n",
        "\n",
        "print(\"Statistical Features Summary:\")\n",
        "print(df[['Efficiency', 'SAT_Index', 'Accuracy_Z', 'RT_Z']].describe())"
      ],
      "metadata": {
        "colab": {
          "base_uri": "https://localhost:8080/"
        },
        "id": "vbMkWPcAyEX2",
        "outputId": "9358c153-80ac-4741-ad83-9f3edbede5ee"
      },
      "execution_count": 3,
      "outputs": [
        {
          "output_type": "stream",
          "name": "stdout",
          "text": [
            "Statistical Features Summary:\n",
            "       Efficiency   SAT_Index  Accuracy_Z          RT_Z\n",
            "count   16.000000   16.000000   16.000000  1.600000e+01\n",
            "mean    47.257180   93.539680    0.000000 -2.428613e-16\n",
            "std     15.723153   31.122015    1.000000  1.000000e+00\n",
            "min     23.287671   46.095034   -1.845180 -1.194569e+00\n",
            "25%     35.928859   71.116685   -0.585671 -8.806679e-01\n",
            "50%     47.430511   93.882767    0.119653 -1.083707e-01\n",
            "75%     63.314364  125.322870    0.875358  5.244147e-01\n",
            "max     69.565217  137.695652    1.278401  1.874689e+00\n"
          ]
        }
      ]
    },
    {
      "cell_type": "code",
      "source": [
        "from sklearn.model_selection import train_test_split\n",
        "from sklearn.preprocessing import StandardScaler\n",
        "\n",
        "# Features and target\n",
        "X = df[['AccuracyPercent', 'AvgReactionTimeSec', 'Efficiency', 'SAT_Index']]\n",
        "y = df['Performance']\n",
        "\n",
        "# Split data (80/20)\n",
        "X_train, X_test, y_train, y_test = train_test_split(X, y, test_size=0.2, random_state=42, stratify=y)\n",
        "\n",
        "# Scale features\n",
        "scaler = StandardScaler()\n",
        "X_train_scaled = scaler.fit_transform(X_train)\n",
        "X_test_scaled = scaler.transform(X_test)"
      ],
      "metadata": {
        "id": "LPM5N2LCyHYJ"
      },
      "execution_count": 4,
      "outputs": []
    },
    {
      "cell_type": "code",
      "source": [
        "from sklearn.neural_network import MLPClassifier\n",
        "from sklearn.metrics import confusion_matrix, classification_report\n",
        "\n",
        "# Initialize and train\n",
        "nn = MLPClassifier(\n",
        "    hidden_layer_sizes=(64, 32),\n",
        "    activation='relu',\n",
        "    solver='adam',\n",
        "    max_iter=1000,\n",
        "    random_state=42\n",
        ")\n",
        "nn.fit(X_train_scaled, y_train)\n",
        "\n",
        "# Evaluate\n",
        "y_pred_nn = nn.predict(X_test_scaled)\n",
        "print(\"Neural Network Confusion Matrix:\")\n",
        "print(confusion_matrix(y_test, y_pred_nn))\n",
        "print(\"\\nClassification Report:\")\n",
        "print(classification_report(y_test, y_pred_nn))"
      ],
      "metadata": {
        "colab": {
          "base_uri": "https://localhost:8080/"
        },
        "id": "WWtXjiI0yQpX",
        "outputId": "ce9ffed2-aedb-4b14-d04a-d21d7a910709"
      },
      "execution_count": 5,
      "outputs": [
        {
          "output_type": "stream",
          "name": "stdout",
          "text": [
            "Neural Network Confusion Matrix:\n",
            "[[1 0 0]\n",
            " [0 2 0]\n",
            " [0 0 1]]\n",
            "\n",
            "Classification Report:\n",
            "              precision    recall  f1-score   support\n",
            "\n",
            "        High       1.00      1.00      1.00         1\n",
            "         Low       1.00      1.00      1.00         2\n",
            "      Medium       1.00      1.00      1.00         1\n",
            "\n",
            "    accuracy                           1.00         4\n",
            "   macro avg       1.00      1.00      1.00         4\n",
            "weighted avg       1.00      1.00      1.00         4\n",
            "\n"
          ]
        }
      ]
    },
    {
      "cell_type": "code",
      "source": [
        "from sklearn.ensemble import RandomForestClassifier\n",
        "\n",
        "# Initialize and train\n",
        "rf = RandomForestClassifier(\n",
        "    n_estimators=100,\n",
        "    max_depth=3,\n",
        "    random_state=42\n",
        ")\n",
        "rf.fit(X_train, y_train)\n",
        "\n",
        "# Evaluate\n",
        "y_pred_rf = rf.predict(X_test)\n",
        "print(\"\\nRandom Forest Confusion Matrix:\")\n",
        "print(confusion_matrix(y_test, y_pred_rf))\n",
        "print(\"\\nFeature Importances:\")\n",
        "for feat, imp in zip(X.columns, rf.feature_importances_):\n",
        "    print(f\"{feat}: {imp:.4f}\")"
      ],
      "metadata": {
        "colab": {
          "base_uri": "https://localhost:8080/"
        },
        "id": "7yML19X7yZGd",
        "outputId": "09a6a137-37f5-48b6-d0cf-29e176c0ac23"
      },
      "execution_count": 6,
      "outputs": [
        {
          "output_type": "stream",
          "name": "stdout",
          "text": [
            "\n",
            "Random Forest Confusion Matrix:\n",
            "[[0 0 1]\n",
            " [0 2 0]\n",
            " [0 0 1]]\n",
            "\n",
            "Feature Importances:\n",
            "AccuracyPercent: 0.1383\n",
            "AvgReactionTimeSec: 0.4175\n",
            "Efficiency: 0.2476\n",
            "SAT_Index: 0.1966\n"
          ]
        }
      ]
    },
    {
      "cell_type": "code",
      "source": [
        "from xgboost import XGBClassifier\n",
        "from sklearn.preprocessing import LabelEncoder\n",
        "\n",
        "# Initialize LabelEncoder and fit on the training data labels\n",
        "label_encoder = LabelEncoder()\n",
        "y_train_encoded = label_encoder.fit_transform(y_train)\n",
        "y_test_encoded = label_encoder.transform(y_test)\n",
        "\n",
        "\n",
        "# Initialize and train\n",
        "xgb = XGBClassifier(\n",
        "    n_estimators=100,\n",
        "    learning_rate=0.1,\n",
        "    max_depth=3,\n",
        "    random_state=42\n",
        ")\n",
        "xgb.fit(X_train, y_train_encoded)\n",
        "\n",
        "# Evaluate\n",
        "y_pred_xgb = xgb.predict(X_test)\n",
        "print(\"\\nXGBoost Confusion Matrix:\")\n",
        "print(confusion_matrix(y_test_encoded, y_pred_xgb))"
      ],
      "metadata": {
        "colab": {
          "base_uri": "https://localhost:8080/"
        },
        "id": "j__tOOWbyf65",
        "outputId": "13bfbc3b-217f-4af4-824b-e35a4ef6fa46"
      },
      "execution_count": 7,
      "outputs": [
        {
          "output_type": "stream",
          "name": "stdout",
          "text": [
            "\n",
            "XGBoost Confusion Matrix:\n",
            "[[1 0 0]\n",
            " [0 2 0]\n",
            " [1 0 0]]\n"
          ]
        }
      ]
    },
    {
      "cell_type": "code",
      "source": [
        "# Compile accuracy scores\n",
        "nn_acc = nn.score(X_test_scaled, y_test)\n",
        "rf_acc = rf.score(X_test, y_test)\n",
        "xgb_acc = xgb.score(X_test, y_test_encoded)\n",
        "\n",
        "print(f\"\\nModel Comparison:\")\n",
        "print(f\"Neural Network Accuracy: {nn_acc:.2f}\")\n",
        "print(f\"Random Forest Accuracy: {rf_acc:.2f}\")\n",
        "print(f\"XGBoost Accuracy: {xgb_acc:.2f}\")\n",
        "\n",
        "# Plot confusion matrices\n",
        "import matplotlib.pyplot as plt\n",
        "import seaborn as sns\n",
        "\n",
        "fig, ax = plt.subplots(1, 3, figsize=(18, 5))\n",
        "\n",
        "models = [('Neural Network', y_pred_nn),\n",
        "          ('Random Forest', y_pred_rf),\n",
        "          ('XGBoost', y_pred_xgb)]\n",
        "\n",
        "for i, (name, pred) in enumerate(models):\n",
        "    if name == 'XGBoost':\n",
        "        cm = confusion_matrix(y_test_encoded, pred)\n",
        "    else:\n",
        "        cm = confusion_matrix(y_test, pred)\n",
        "    sns.heatmap(cm, annot=True, fmt='d', ax=ax[i], cmap='Blues')\n",
        "    ax[i].set_title(f'{name} Confusion Matrix')\n",
        "    ax[i].set_xlabel('Predicted')\n",
        "    ax[i].set_ylabel('Actual')\n",
        "    ax[i].set_xticklabels(['High', 'Medium', 'Low'])\n",
        "    ax[i].set_yticklabels(['High', 'Medium', 'Low'])\n",
        "\n",
        "plt.tight_layout()\n",
        "plt.show()"
      ],
      "metadata": {
        "colab": {
          "base_uri": "https://localhost:8080/",
          "height": 412
        },
        "id": "zTlsl6-TzYCG",
        "outputId": "d259cb03-36a2-445e-e083-623cf43f5718"
      },
      "execution_count": 8,
      "outputs": [
        {
          "output_type": "stream",
          "name": "stdout",
          "text": [
            "\n",
            "Model Comparison:\n",
            "Neural Network Accuracy: 1.00\n",
            "Random Forest Accuracy: 0.75\n",
            "XGBoost Accuracy: 0.75\n"
          ]
        },
        {
          "output_type": "display_data",
          "data": {
            "text/plain": [
              "<Figure size 1800x500 with 6 Axes>"
            ],
            "image/png": "[encoded data removed]"
          },
          "metadata": {}
        }
      ]
    }
  ]
}